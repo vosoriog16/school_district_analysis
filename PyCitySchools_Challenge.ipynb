#!/usr/bin/env python
# coding: utf-8

# In[1]:


# Dependencies and Setup
import pandas as pd

# File to Load (Remember to change the path if needed.)
school_data_to_load = "Downloads/schools_complete.csv"
student_data_to_load = "Downloads/students_complete.csv"

# Read the School Data and Student Data and store into a Pandas DataFrame
school_data_df = pd.read_csv(school_data_to_load)
student_data_df = pd.read_csv(student_data_to_load)

# Cleaning Student Names and Replacing Substrings in a Python String
# Add each prefix and suffix to remove to a list.
prefixes_suffixes = ["Dr. ", "Mr. ","Ms. ", "Mrs. ", "Miss ", " MD", " DDS", " DVM", " PhD"]

# Iterate through the words in the "prefixes_suffixes" list and replace them with an empty space, "".
for word in prefixes_suffixes:
    student_data_df["student_name"] = student_data_df["student_name"].str.replace(word,"")

# Check names.
student_data_df.head(10)


# ## Deliverable 1: Replace the reading and math scores.
# 
# ### Replace the 9th grade reading and math scores at Thomas High School with NaN.

# In[2]:


# Install numpy using conda install numpy or pip install numpy. 
# Step 1. Import numpy as np.
import numpy as np


# In[3]:


# Step 2. Use the loc method on the student_data_df to select all the reading scores from the 9th grade at Thomas High School and replace them with NaN.
student_data_df.loc[(student_data_df["school_name"] == "Thomas High School") 
                    & (student_data_df["grade"] == "9th"), ["reading_score"]] = np.nan


# In[4]:


#  Step 3. Refactor the code in Step 2 to replace the math scores with NaN.
student_data_df.loc[(student_data_df["school_name"] == "Thomas High School") 
                    & (student_data_df["grade"] == "9th"), ["math_score"]] = np.nan


# In[5]:


#  Step 4. Check the student data for NaN's. 
student_data_df.tail(10)


# ## Deliverable 2 : Repeat the school district analysis

# ### District Summary

# In[6]:


# Combine the data into a single dataset
school_data_complete_df = pd.merge(student_data_df, school_data_df, how="left", on=["school_name", "school_name"])
school_data_complete_df.head()


# In[7]:


# Calculate the Totals (Schools and Students)
school_count = len(school_data_complete_df["school_name"].unique())
student_count = school_data_complete_df["Student ID"].count()

# Calculate the Total Budget
total_budget = school_data_df["budget"].sum()


# In[8]:


# Calculate the Average Scores using the "clean_student_data".
average_reading_score = school_data_complete_df["reading_score"].mean()
average_math_score = school_data_complete_df["math_score"].mean()


# In[9]:


# Step 1. Get the number of students that are in ninth grade at Thomas High School.
# These students have no grades. 
ninth_grade_count_THS = school_data_complete_df.loc[(school_data_complete_df["school_name"] == "Thomas High School")
                                                   & (school_data_complete_df["grade"] == "9th")].count()["Student ID"]

# Get the total student count 
student_count = school_data_complete_df["Student ID"].count()


# Step 2. Subtract the number of students that are in ninth grade at 
# Thomas High School from the total student count to get the new total student count.
new_total_st_count = student_count - ninth_grade_count_THS


# In[10]:


# Calculate the passing rates using the "clean_student_data".
passing_math_count = school_data_complete_df[(school_data_complete_df["math_score"] >= 70)].count()["student_name"]
passing_reading_count = school_data_complete_df[(school_data_complete_df["reading_score"] >= 70)].count()["student_name"]


# In[11]:


# Step 3. Calculate the passing percentages with the new total student count.
passing_math_percentage = (passing_math_count/new_total_st_count) * 100
passing_reading_percentage = (passing_reading_count/new_total_st_count) * 100


# In[12]:


# Calculate the students who passed both reading and math.
passing_math_reading = school_data_complete_df[(school_data_complete_df["math_score"] >= 70)
                                               & (school_data_complete_df["reading_score"] >= 70)]

# Calculate the number of students that passed both reading and math.
overall_passing_math_reading_count = passing_math_reading["student_name"].count()


# Step 4.Calculate the overall passing percentage with new total student count.
overall_passing_percentage = (overall_passing_math_reading_count/new_total_st_count) * 100


# In[13]:


# Create a DataFrame
district_summary_df = pd.DataFrame(
          [{"Total Schools": school_count, 
          "Total Students": student_count, 
          "Total Budget": total_budget,
          "Average Math Score": average_math_score, 
          "Average Reading Score": average_reading_score,
          "% Passing Math": passing_math_percentage,
         "% Passing Reading": passing_reading_percentage,
        "% Overall Passing": overall_passing_percentage}])



# Format the "Total Students" to have the comma for a thousands separator.
district_summary_df["Total Students"] = district_summary_df["Total Students"].map("{:,}".format)
# Format the "Total Budget" to have the comma for a thousands separator, a decimal separator and a "$".
district_summary_df["Total Budget"] = district_summary_df["Total Budget"].map("${:,.2f}".format)
# Format the columns.
district_summary_df["Average Math Score"] = district_summary_df["Average Math Score"].map("{:.1f}".format)
district_summary_df["Average Reading Score"] = district_summary_df["Average Reading Score"].map("{:.1f}".format)
district_summary_df["% Passing Math"] = district_summary_df["% Passing Math"].map("{:.1f}".format)
district_summary_df["% Passing Reading"] = district_summary_df["% Passing Reading"].map("{:.1f}".format)
district_summary_df["% Overall Passing"] = district_summary_df["% Overall Passing"].map("{:.1f}".format)

# Display the data frame
district_summary_df


# ##  School Summary

# In[14]:


# Determine the School Type
per_school_types = school_data_df.set_index(["school_name"])["type"]

# Calculate the total student count.
per_school_counts = school_data_complete_df["school_name"].value_counts()

# Calculate the total school budget and per capita spending
per_school_budget = school_data_complete_df.groupby(["school_name"]).mean()["budget"]
# Calculate the per capita spending.
per_school_capita = per_school_budget / per_school_counts

# Calculate the average test scores.
per_school_math = school_data_complete_df.groupby(["school_name"]).mean()["math_score"]
per_school_reading = school_data_complete_df.groupby(["school_name"]).mean()["reading_score"]

# Calculate the passing scores by creating a filtered DataFrame.
per_school_passing_math = school_data_complete_df[(school_data_complete_df["math_score"] >= 70)]
per_school_passing_reading = school_data_complete_df[(school_data_complete_df["reading_score"] >= 70)]

# Calculate the number of students passing math and passing reading by school.
per_school_passing_math = per_school_passing_math.groupby(["school_name"]).count()["student_name"]
per_school_passing_reading = per_school_passing_reading.groupby(["school_name"]).count()["student_name"]

# Calculate the percentage of passing math and reading scores per school.
per_school_passing_math = per_school_passing_math / per_school_counts * 100
per_school_passing_reading = per_school_passing_reading / per_school_counts * 100

# Calculate the students who passed both reading and math.
per_passing_math_reading = school_data_complete_df[(school_data_complete_df["reading_score"] >= 70)
                                               & (school_data_complete_df["math_score"] >= 70)]

# Calculate the number of students passing math and passing reading by school.
per_passing_math_reading = per_passing_math_reading.groupby(["school_name"]).count()["student_name"]

# Calculate the percentage of passing math and reading scores per school.
per_overall_passing_percentage = per_passing_math_reading / per_school_counts * 100


# In[15]:


# Create the DataFrame
per_school_summary_df = pd.DataFrame({
    "School Type": per_school_types,
    "Total Students": per_school_counts,
    "Total School Budget": per_school_budget,
    "Per Student Budget": per_school_capita,
    "Average Math Score": per_school_math,
    "Average Reading Score": per_school_reading,
    "% Passing Math": per_school_passing_math,
    "% Passing Reading": per_school_passing_reading,
    "% Overall Passing": per_overall_passing_percentage})


# per_school_summary_df.head()


# In[16]:


# Format the Total School Budget and the Per Student Budget
per_school_summary_df["Total School Budget"] = per_school_summary_df["Total School Budget"].map("${:,.2f}".format)
per_school_summary_df["Per Student Budget"] = per_school_summary_df["Per Student Budget"].map("${:,.2f}".format)

# Display the data frame
per_school_summary_df


# In[17]:


# Step 5.  Get the number of 10th-12th graders from Thomas High School (THS).
total_grade_THS = school_data_complete_df[(school_data_complete_df["grade"] != "9th") 
                                          & (school_data_complete_df["school_name"] == "Thomas High School")].count()
total_grade_THS = total_grade_THS["Student ID"]


# In[18]:


# Step 6. Get all the students passing math from THS
passing_math_THS = school_data_complete_df[(school_data_complete_df["math_score"] >= 70) 
                                           & (school_data_complete_df["school_name"] == "Thomas High School")].count()
passing_math_THS = passing_math_THS["Student ID"]


# In[19]:


# Step 7. Get all the students passing reading from THS
passing_reading_THS = school_data_complete_df[(school_data_complete_df["reading_score"] >= 70)
                                              & (school_data_complete_df["school_name"] == "Thomas High School")].count()
passing_reading_THS = passing_reading_THS["Student ID"]


# In[20]:


# Step 8. Get all the students passing math and reading from THS
passing_reading_math_THS = school_data_complete_df[(school_data_complete_df["reading_score"] >= 70)
                                                   & (school_data_complete_df["math_score"] >= 70) 
                                                   & (school_data_complete_df["school_name"] == "Thomas High School")].count()
passing_reading_math_THS = passing_reading_math_THS["Student ID"]


# In[21]:


# Step 9. Calculate the percentage of 10th-12th grade students passing math from Thomas High School. 
percentage_math_THS = (passing_math_THS / total_grade_THS) * 100


# In[22]:


# Step 10. Calculate the percentage of 10th-12th grade students passing reading from Thomas High School.
percentage_reading_THS = (passing_reading_THS/total_grade_THS) * 100


# In[23]:


# Step 11. Calculate the overall passing percentage of 10th-12th grade from Thomas High School. 
overall_percentage_THS = (passing_reading_math_THS/total_grade_THS) * 100


# In[24]:


# Step 12. Replace the passing math percent for Thomas High School in the per_school_summary_df.
per_school_summary_df.loc[["Thomas High School"], ["% Passing Math"]] = percentage_math_THS


# In[25]:


# Step 13. Replace the passing reading percentage for Thomas High School in the per_school_summary_df.
per_school_summary_df.loc[["Thomas High School"], ["% Passing Reading"]] = percentage_reading_THS


# In[26]:


# Step 14. Replace the overall passing percentage for Thomas High School in the per_school_summary_df.
per_school_summary_df.loc[["Thomas High School"], ["% Overall Passing"]] = overall_percentage_THS


# In[27]:


per_school_summary_df


# ## High and Low Performing Schools 

# In[28]:


# Sort and show top five schools.
top_five_schools = per_school_summary_df.sort_values(["% Overall Passing"], ascending = False)
top_five_schools.head()


# In[29]:


# Sort and show top five schools.
bottom_five_schools = per_school_summary_df.sort_values(["% Overall Passing"], ascending = True)
bottom_five_schools.head()


# ## Math and Reading Scores by Grade

# In[30]:


# Create a Series of scores by grade levels using conditionals.
ninth_grade = school_data_complete_df[(school_data_complete_df["grade"] == "9th")]
tenth_grade = school_data_complete_df[(school_data_complete_df["grade"] == "10th")]
eleventh_grade = school_data_complete_df[(school_data_complete_df["grade"] == "11th")]
twelfth_grade = school_data_complete_df[(school_data_complete_df["grade"] == "12th")]

# Group each school Series by the school name for the average math score.
ninth_grade_math = ninth_grade.groupby(["school_name"]).mean()["math_score"]
tenth_grade_math = tenth_grade.groupby(["school_name"]).mean()["math_score"]
eleventh_grade_math = eleventh_grade.groupby(["school_name"]).mean()["math_score"]
twelfth_grade_math = twelfth_grade.groupby(["school_name"]).mean()["math_score"]

# Group each school Series by the school name for the average reading score.
ninth_grade_reading = ninth_grade.groupby(["school_name"]).mean()["reading_score"]
tenth_grade_reading = tenth_grade.groupby(["school_name"]).mean()["reading_score"]
eleventh_grade_reading = eleventh_grade.groupby(["school_name"]).mean()["reading_score"]
twelfth_grade_reading = twelfth_grade.groupby(["school_name"]).mean()["reading_score"]


# In[31]:


# Combine each Series for average math scores by school into single data frame.
math_scores_per_grade = pd.DataFrame({
                        "9th": ninth_grade_math,
                        "10th": tenth_grade_math,
                        "11th": eleventh_grade_math,
                        "12th": twelfth_grade_math})


# In[32]:


# Combine each Series for average reading scores by school into single data frame.
reading_scores_per_grade = pd.DataFrame({
                        "9th": ninth_grade_reading,
                        "10th": tenth_grade_reading,
                        "11th": eleventh_grade_reading,
                        "12th": twelfth_grade_reading})


# In[33]:


# Format each grade column.
math_scores_per_grade["9th"] = math_scores_per_grade["9th"].map("{:.1f}".format)
math_scores_per_grade["10th"] = math_scores_per_grade["10th"].map("{:.1f}".format)
math_scores_per_grade["11th"] = math_scores_per_grade["11th"].map("{:.1f}".format)
math_scores_per_grade["12th"] = math_scores_per_grade["12th"].map("{:.1f}".format)
math_scores_per_grade = math_scores_per_grade[["9th", "10th", "11th", "12th"]]

reading_scores_per_grade["9th"] = reading_scores_per_grade["9th"].map("{:.1f}".format)
reading_scores_per_grade["10th"] = reading_scores_per_grade["10th"].map("{:.1f}".format)
reading_scores_per_grade["11th"] = reading_scores_per_grade["11th"].map("{:.1f}".format)
reading_scores_per_grade["12th"] = reading_scores_per_grade["12th"].map("{:.1f}".format)
reading_scores_per_grade = reading_scores_per_grade[["9th", "10th", "11th", "12th"]]


# In[34]:


# Remove the index.
math_scores_per_grade.index.name = None

# Display the data frame
math_scores_per_grade


# In[35]:


## Remove the index.
reading_scores_per_grade.index.name = None

# Display the data frame
reading_scores_per_grade


# ## Scores by School Spending

# In[36]:


# Establish the spending bins and group names.
per_school_capita.describe()
spending_bins = [0, 585, 630, 645, 675]
pd.cut(per_school_capita, spending_bins)
per_school_capita.groupby(pd.cut(per_school_capita, spending_bins)).count()
spending_groups = ["< $584", "$585 - $629", "$630 - $644", "$645 - $675"]

# Categorize spending based on the bins.
per_school_summary_df["Spending Ranges Per Student"] = pd.cut(per_school_capita, spending_bins, labels = spending_groups)


# In[37]:


# Calculate averages for the desired columns. 
math_spending = per_school_summary_df.groupby(["Spending Ranges Per Student"]).mean()["Average Math Score"]
reading_spending = per_school_summary_df.groupby(["Spending Ranges Per Student"]).mean()["Average Reading Score"]
passing_math_spending = per_school_summary_df.groupby(["Spending Ranges Per Student"]).mean()["% Passing Math"]
passing_reading_spending = per_school_summary_df.groupby(["Spending Ranges Per Student"]).mean()["% Passing Reading"]
overall_passing_spending = per_school_summary_df.groupby(["Spending Ranges Per Student"]).mean()["% Overall Passing"]


# In[38]:


# Create the DataFrame
score_spending_df = pd.DataFrame({
                    "Average Math Score": math_spending,
                    "Average Reading Score": reading_spending,
                    "% Passing Math": passing_math_spending,
                    "% Passing Reading": passing_reading_spending,
                    "% Overall Passing": overall_passing_spending})


# In[39]:


# Format the DataFrame 
score_spending_df["Average Math Score"] = score_spending_df["Average Math Score"].map("{:.1f}".format)
score_spending_df["Average Reading Score"] = score_spending_df["Average Reading Score"].map("{:.1f}".format)
score_spending_df["% Passing Math"] = score_spending_df["% Passing Math"].map("{:.1f}".format)
score_spending_df["% Passing Reading"] = score_spending_df["% Passing Reading"].map("{:.1f}".format)
score_spending_df["% Overall Passing"] = score_spending_df["% Overall Passing"].map("{:.1f}".format)
score_spending_df


# ## Scores by School Size

# In[40]:


# Establish the bins.
per_school_counts
school_size_bins = [0, 1000, 2000, 5000]
size_groups = ["Small <1000", "Medium 1000-2000", "Large 2000-5000"]
# Categorize spending based on the bins.
per_school_summary_df["School Size"] = pd.cut(per_school_summary_df["Total Students"], school_size_bins, labels = size_groups)


# In[41]:


# Calculate averages for the desired columns. 
math_size = per_school_summary_df.groupby(["School Size"]).mean()["Average Math Score"]
reading_size = per_school_summary_df.groupby(["School Size"]).mean()["Average Reading Score"]
math_passing_size = per_school_summary_df.groupby(["School Size"]).mean()["% Passing Math"]
reading_passing_size = per_school_summary_df.groupby(["School Size"]).mean()["% Passing Reading"]
overall_passing_size = per_school_summary_df.groupby(["School Size"]).mean()["% Overall Passing"]


# In[42]:


# Assemble into DataFrame. 
size_df = pd.DataFrame({
            "Average Math Score": math_size,
            "Average Reading Score": reading_size,
            "% Passing Math": math_passing_size,
            "% Passing Reading": reading_passing_size,
            "% Overall Passing": overall_passing_size})


# In[43]:


# Format the DataFrame  
size_df["Average Math Score"] = size_df["Average Math Score"].map("{:.1f}".format)
size_df["Average Reading Score"] = size_df["Average Reading Score"].map("{:.1f}".format)
size_df["% Passing Math"] = size_df["% Passing Math"].map("{:.1f}".format)
size_df["% Passing Reading"] = size_df["% Passing Reading"].map("{:.1f}".format)
size_df["% Overall Passing"] = size_df["% Overall Passing"].map("{:.1f}".format)
size_df


# ## Scores by School Type

# In[44]:


# Calculate averages for the desired columns. 
math_school_type = per_school_summary_df.groupby(["School Type"]).mean()["Average Math Score"]
reading_school_type = per_school_summary_df.groupby(["School Type"]).mean()["Average Reading Score"]
math_passing_school_type = per_school_summary_df.groupby(["School Type"]).mean()["% Passing Math"]
reading_passing_school_type = per_school_summary_df.groupby(["School Type"]).mean()["% Passing Reading"]
overall_passing_school_type = per_school_summary_df.groupby(["School Type"]).mean()["% Overall Passing"]


# In[45]:


# Assemble into DataFrame. 
school_type_df = pd.DataFrame({
                    "Average Math Score": math_school_type,
                    "Average Reading Score": reading_school_type,
                    "% Passing Math": math_passing_school_type,
                    "% Passing Reading": reading_passing_school_type,
                    "% Overall Passing": overall_passing_school_type})


# In[46]:


# # Format the DataFrame 
school_type_df["Average Math Score"] = school_type_df["Average Math Score"].map("{:.1f}".format)
school_type_df["Average Reading Score"] = school_type_df["Average Reading Score"].map("{:.1f}".format)
school_type_df["% Passing Math"] = school_type_df["% Passing Math"].map("{:.1f}".format)
school_type_df["% Passing Reading"] = school_type_df["% Passing Reading"].map("{:.1f}".format)
school_type_df["% Overall Passing"] = school_type_df["% Overall Passing"].map("{:.1f}".format)
school_type_df


# In[ ]:




